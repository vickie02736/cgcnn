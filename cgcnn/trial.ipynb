{
 "cells": [
  {
   "cell_type": "code",
   "execution_count": 1,
   "metadata": {},
   "outputs": [],
   "source": [
    "import csv\n",
    "import functools\n",
    "import json\n",
    "import os\n",
    "import random\n",
    "import warnings\n",
    "import pickle\n",
    "\n",
    "import numpy as np\n",
    "import torch\n",
    "# from pymatgen.core.structure import Structure\n",
    "from torch.utils.data import Dataset, DataLoader\n",
    "from torch.utils.data.dataloader import default_collate\n",
    "from torch.utils.data.sampler import SubsetRandomSampler"
   ]
  },
  {
   "cell_type": "code",
   "execution_count": 2,
   "metadata": {},
   "outputs": [],
   "source": [
    "from data import CIFData\n",
    "dataset = CIFData(\"/Users/kewei/VScode/cgcnn/data/sample-regression\")"
   ]
  },
  {
   "cell_type": "code",
   "execution_count": 4,
   "metadata": {},
   "outputs": [
    {
     "data": {
      "text/plain": [
       "10"
      ]
     },
     "execution_count": 4,
     "metadata": {},
     "output_type": "execute_result"
    }
   ],
   "source": [
    "total_size = len(dataset)\n",
    "total_size"
   ]
  },
  {
   "cell_type": "code",
   "execution_count": 5,
   "metadata": {},
   "outputs": [
    {
     "data": {
      "text/plain": [
       "[0, 1, 2, 3, 4, 5, 6, 7, 8, 9]"
      ]
     },
     "execution_count": 5,
     "metadata": {},
     "output_type": "execute_result"
    }
   ],
   "source": [
    "indices = list(range(total_size))\n",
    "indices"
   ]
  },
  {
   "cell_type": "code",
   "execution_count": null,
   "metadata": {},
   "outputs": [],
   "source": [
    "# if train_ratio is None:\n",
    "#     assert val_ratio + test_ratio < 1\n",
    "#     train_ratio = 1 - val_ratio - test_ratio\n",
    "#     print('[Warning] train_ratio is None, using all training data.')\n",
    "# else:\n",
    "#     assert train_ratio + val_ratio + test_ratio <= 1\n",
    "# indices = list(range(total_size))\n",
    "# if kwargs['train_size']:\n",
    "#     train_size = kwargs['train_size']\n",
    "# else:\n",
    "#     train_size = int(train_ratio * total_size)\n",
    "# if kwargs['test_size']:\n",
    "#     test_size = kwargs['test_size']\n",
    "# else:\n",
    "#     test_size = int(test_ratio * total_size)\n",
    "# if kwargs['val_size']:\n",
    "#     valid_size = kwargs['val_size']\n",
    "# else:\n",
    "#     valid_size = int(val_ratio * total_size)\n",
    "train_sampler = SubsetRandomSampler(indices[:train_size])\n",
    "val_sampler = SubsetRandomSampler(\n",
    "    indices[-(valid_size + test_size):-test_size])\n",
    "if return_test:\n",
    "    test_sampler = SubsetRandomSampler(indices[-test_size:])"
   ]
  }
 ],
 "metadata": {
  "kernelspec": {
   "display_name": "common",
   "language": "python",
   "name": "python3"
  },
  "language_info": {
   "codemirror_mode": {
    "name": "ipython",
    "version": 3
   },
   "file_extension": ".py",
   "mimetype": "text/x-python",
   "name": "python",
   "nbconvert_exporter": "python",
   "pygments_lexer": "ipython3",
   "version": "3.9.18"
  }
 },
 "nbformat": 4,
 "nbformat_minor": 2
}
