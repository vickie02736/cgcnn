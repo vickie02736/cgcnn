{
 "cells": [
  {
   "cell_type": "code",
   "execution_count": null,
   "metadata": {},
   "outputs": [
    {
     "name": "stderr",
     "output_type": "stream",
     "text": [
      "/home/uceckz0/miniconda3/envs/cgcnn/lib/python3.8/site-packages/tqdm/auto.py:21: TqdmWarning: IProgress not found. Please update jupyter and ipywidgets. See https://ipywidgets.readthedocs.io/en/stable/user_install.html\n",
      "  from .autonotebook import tqdm as notebook_tqdm\n"
     ]
    }
   ],
   "source": [
    "import os\n",
    "import pandas as pd\n",
    "from pymatgen.io.cif import CifParser\n",
    "from pymatgen.core.structure import Structure"
   ]
  },
  {
   "cell_type": "code",
   "execution_count": 9,
   "metadata": {},
   "outputs": [],
   "source": [
    "# Specify the directory path\n",
    "directory_path = '/home/uceckz0/Scratch/CSD_non_disordered'"
   ]
  },
  {
   "cell_type": "code",
   "execution_count": 10,
   "metadata": {},
   "outputs": [],
   "source": [
    "# List to hold file names without extensions\n",
    "file_names = []\n",
    "\n",
    "# Read all file names in the directory\n",
    "for file_name in os.listdir(directory_path):\n",
    "    if file_name.endswith(\".cif\"):\n",
    "            name, _ = os.path.splitext(file_name)\n",
    "            file_names.append(name)\n",
    "    else:\n",
    "        pass\n",
    "\n",
    "# Convert the list to a DataFrame\n",
    "df = pd.DataFrame(file_names)"
   ]
  },
  {
   "cell_type": "code",
   "execution_count": 13,
   "metadata": {},
   "outputs": [],
   "source": [
    "df['Zero Column']=0.0"
   ]
  },
  {
   "cell_type": "code",
   "execution_count": 18,
   "metadata": {},
   "outputs": [],
   "source": [
    "csv_file_path = '../ARC_MOF/repeat_cifs/band_gap/test.csv'\n",
    "df.to_csv(csv_file_path, index=False, header=False)"
   ]
  },
  {
   "cell_type": "markdown",
   "metadata": {},
   "source": [
    "# Check result"
   ]
  },
  {
   "cell_type": "code",
   "execution_count": 2,
   "metadata": {},
   "outputs": [
    {
     "data": {
      "text/html": [
       "<div>\n",
       "<style scoped>\n",
       "    .dataframe tbody tr th:only-of-type {\n",
       "        vertical-align: middle;\n",
       "    }\n",
       "\n",
       "    .dataframe tbody tr th {\n",
       "        vertical-align: top;\n",
       "    }\n",
       "\n",
       "    .dataframe thead th {\n",
       "        text-align: right;\n",
       "    }\n",
       "</style>\n",
       "<table border=\"1\" class=\"dataframe\">\n",
       "  <thead>\n",
       "    <tr style=\"text-align: right;\">\n",
       "      <th></th>\n",
       "      <th>COMPIE.Non-disordered_MOF_subset</th>\n",
       "      <th>0.0</th>\n",
       "    </tr>\n",
       "  </thead>\n",
       "  <tbody>\n",
       "    <tr>\n",
       "      <th>0</th>\n",
       "      <td>GUPTOB.Non-disordered_MOF_subset</td>\n",
       "      <td>0.0</td>\n",
       "    </tr>\n",
       "    <tr>\n",
       "      <th>1</th>\n",
       "      <td>HORWAP.Non-disordered_MOF_subset</td>\n",
       "      <td>0.0</td>\n",
       "    </tr>\n",
       "    <tr>\n",
       "      <th>2</th>\n",
       "      <td>CAZSEF.Non-disordered_MOF_subset</td>\n",
       "      <td>0.0</td>\n",
       "    </tr>\n",
       "    <tr>\n",
       "      <th>3</th>\n",
       "      <td>ASUJIJ.Non-disordered_MOF_subset</td>\n",
       "      <td>0.0</td>\n",
       "    </tr>\n",
       "    <tr>\n",
       "      <th>4</th>\n",
       "      <td>COBRET01.Non-disordered_MOF_subset</td>\n",
       "      <td>0.0</td>\n",
       "    </tr>\n",
       "    <tr>\n",
       "      <th>...</th>\n",
       "      <td>...</td>\n",
       "      <td>...</td>\n",
       "    </tr>\n",
       "    <tr>\n",
       "      <th>92018</th>\n",
       "      <td>AMOJUK.Non-disordered_MOF_subset</td>\n",
       "      <td>0.0</td>\n",
       "    </tr>\n",
       "    <tr>\n",
       "      <th>92019</th>\n",
       "      <td>HORSOZ.Non-disordered_MOF_subset</td>\n",
       "      <td>0.0</td>\n",
       "    </tr>\n",
       "    <tr>\n",
       "      <th>92020</th>\n",
       "      <td>BZTZTL.Non-disordered_MOF_subset</td>\n",
       "      <td>0.0</td>\n",
       "    </tr>\n",
       "    <tr>\n",
       "      <th>92021</th>\n",
       "      <td>IROQAI.Non-disordered_MOF_subset</td>\n",
       "      <td>0.0</td>\n",
       "    </tr>\n",
       "    <tr>\n",
       "      <th>92022</th>\n",
       "      <td>JAHVUJ01.Non-disordered_MOF_subset</td>\n",
       "      <td>0.0</td>\n",
       "    </tr>\n",
       "  </tbody>\n",
       "</table>\n",
       "<p>92023 rows × 2 columns</p>\n",
       "</div>"
      ],
      "text/plain": [
       "         COMPIE.Non-disordered_MOF_subset  0.0\n",
       "0        GUPTOB.Non-disordered_MOF_subset  0.0\n",
       "1        HORWAP.Non-disordered_MOF_subset  0.0\n",
       "2        CAZSEF.Non-disordered_MOF_subset  0.0\n",
       "3        ASUJIJ.Non-disordered_MOF_subset  0.0\n",
       "4      COBRET01.Non-disordered_MOF_subset  0.0\n",
       "...                                   ...  ...\n",
       "92018    AMOJUK.Non-disordered_MOF_subset  0.0\n",
       "92019    HORSOZ.Non-disordered_MOF_subset  0.0\n",
       "92020    BZTZTL.Non-disordered_MOF_subset  0.0\n",
       "92021    IROQAI.Non-disordered_MOF_subset  0.0\n",
       "92022  JAHVUJ01.Non-disordered_MOF_subset  0.0\n",
       "\n",
       "[92023 rows x 2 columns]"
      ]
     },
     "execution_count": 2,
     "metadata": {},
     "output_type": "execute_result"
    }
   ],
   "source": [
    "import pandas as pd\n",
    "\n",
    "csv_file_path = '/home/uceckz0/Scratch/CSD_non_disordered/band_gap/test.csv'\n",
    "id_prop = pd.read_csv(csv_file_path)\n",
    "id_prop"
   ]
  },
  {
   "cell_type": "code",
   "execution_count": 3,
   "metadata": {},
   "outputs": [
    {
     "data": {
      "text/plain": [
       "(92023, 2)"
      ]
     },
     "execution_count": 3,
     "metadata": {},
     "output_type": "execute_result"
    }
   ],
   "source": [
    "id_prop.shape"
   ]
  }
 ],
 "metadata": {
  "kernelspec": {
   "display_name": "cgcnn",
   "language": "python",
   "name": "python3"
  },
  "language_info": {
   "codemirror_mode": {
    "name": "ipython",
    "version": 3
   },
   "file_extension": ".py",
   "mimetype": "text/x-python",
   "name": "python",
   "nbconvert_exporter": "python",
   "pygments_lexer": "ipython3",
   "version": "3.8.19"
  }
 },
 "nbformat": 4,
 "nbformat_minor": 2
}
