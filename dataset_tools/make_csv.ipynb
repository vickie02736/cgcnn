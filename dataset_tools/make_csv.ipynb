{
 "cells": [
  {
   "cell_type": "code",
   "execution_count": 1,
   "metadata": {},
   "outputs": [
    {
     "name": "stderr",
     "output_type": "stream",
     "text": [
      "/home/uceckz0/miniconda3/envs/cgcnn/lib/python3.8/site-packages/tqdm/auto.py:21: TqdmWarning: IProgress not found. Please update jupyter and ipywidgets. See https://ipywidgets.readthedocs.io/en/stable/user_install.html\n",
      "  from .autonotebook import tqdm as notebook_tqdm\n"
     ]
    }
   ],
   "source": [
    "import os\n",
    "import pandas as pd\n",
    "from pymatgen.io.cif import CifParser\n",
    "from pymatgen.core.structure import Structure"
   ]
  },
  {
   "cell_type": "code",
   "execution_count": 9,
   "metadata": {},
   "outputs": [],
   "source": [
    "# Specify the directory path\n",
    "directory_path = '../ARC_MOF/repeat_cifs'"
   ]
  },
  {
   "cell_type": "code",
   "execution_count": 10,
   "metadata": {},
   "outputs": [],
   "source": [
    "# List to hold file names without extensions\n",
    "file_names = []\n",
    "\n",
    "# Read all file names in the directory\n",
    "for file_name in os.listdir(directory_path):\n",
    "    if file_name.endswith(\".cif\"):\n",
    "            name, _ = os.path.splitext(file_name)\n",
    "            file_names.append(name)\n",
    "    else:\n",
    "        pass\n",
    "\n",
    "# Convert the list to a DataFrame\n",
    "df = pd.DataFrame(file_names)"
   ]
  },
  {
   "cell_type": "code",
   "execution_count": 13,
   "metadata": {},
   "outputs": [],
   "source": [
    "df['Zero Column']=0.0"
   ]
  },
  {
   "cell_type": "code",
   "execution_count": 18,
   "metadata": {},
   "outputs": [],
   "source": [
    "csv_file_path = '../ARC_MOF/repeat_cifs/band_gap/test.csv'\n",
    "df.to_csv(csv_file_path, index=False, header=False)"
   ]
  },
  {
   "cell_type": "markdown",
   "metadata": {},
   "source": [
    "# Check result"
   ]
  },
  {
   "cell_type": "code",
   "execution_count": 1,
   "metadata": {},
   "outputs": [
    {
     "data": {
      "text/html": [
       "<div>\n",
       "<style scoped>\n",
       "    .dataframe tbody tr th:only-of-type {\n",
       "        vertical-align: middle;\n",
       "    }\n",
       "\n",
       "    .dataframe tbody tr th {\n",
       "        vertical-align: top;\n",
       "    }\n",
       "\n",
       "    .dataframe thead th {\n",
       "        text-align: right;\n",
       "    }\n",
       "</style>\n",
       "<table border=\"1\" class=\"dataframe\">\n",
       "  <thead>\n",
       "    <tr style=\"text-align: right;\">\n",
       "      <th></th>\n",
       "      <th>DB0-m2_o11_o147_f0_pcu_repeat</th>\n",
       "      <th>0.0</th>\n",
       "    </tr>\n",
       "  </thead>\n",
       "  <tbody>\n",
       "    <tr>\n",
       "      <th>0</th>\n",
       "      <td>DB5-hypotheticalMOF_5064018_0_0_2_15_2_14_repeat</td>\n",
       "      <td>0.0</td>\n",
       "    </tr>\n",
       "    <tr>\n",
       "      <th>1</th>\n",
       "      <td>DB0-m3_o160_o146_f0_fsc.sym.81_repeat</td>\n",
       "      <td>0.0</td>\n",
       "    </tr>\n",
       "    <tr>\n",
       "      <th>2</th>\n",
       "      <td>DB0-m2_o3_o4_f0_nbo.sym.13_repeat</td>\n",
       "      <td>0.0</td>\n",
       "    </tr>\n",
       "    <tr>\n",
       "      <th>3</th>\n",
       "      <td>DB0-m29_o82_o1470_f0_pts.sym.11_repeat</td>\n",
       "      <td>0.0</td>\n",
       "    </tr>\n",
       "    <tr>\n",
       "      <th>4</th>\n",
       "      <td>DB0-m3_o520_o159_f0_fsc.sym.79_repeat</td>\n",
       "      <td>0.0</td>\n",
       "    </tr>\n",
       "    <tr>\n",
       "      <th>...</th>\n",
       "      <td>...</td>\n",
       "      <td>...</td>\n",
       "    </tr>\n",
       "    <tr>\n",
       "      <th>279604</th>\n",
       "      <td>DB0-m3_o7_o22_f0_nbo.sym.54_repeat</td>\n",
       "      <td>0.0</td>\n",
       "    </tr>\n",
       "    <tr>\n",
       "      <th>279605</th>\n",
       "      <td>DB0-m2_o5_o14_f0_nbo.sym.53_repeat</td>\n",
       "      <td>0.0</td>\n",
       "    </tr>\n",
       "    <tr>\n",
       "      <th>279606</th>\n",
       "      <td>DB5-hypotheticalMOF_5911_2_0_0_10_2_7_repeat</td>\n",
       "      <td>0.0</td>\n",
       "    </tr>\n",
       "    <tr>\n",
       "      <th>279607</th>\n",
       "      <td>DB0-m3_o510_o14_f0_fsc.sym.63_repeat</td>\n",
       "      <td>0.0</td>\n",
       "    </tr>\n",
       "    <tr>\n",
       "      <th>279608</th>\n",
       "      <td>DB0-m3_o11_o27_f0_nbo.sym.12_repeat</td>\n",
       "      <td>0.0</td>\n",
       "    </tr>\n",
       "  </tbody>\n",
       "</table>\n",
       "<p>279609 rows × 2 columns</p>\n",
       "</div>"
      ],
      "text/plain": [
       "                           DB0-m2_o11_o147_f0_pcu_repeat  0.0\n",
       "0       DB5-hypotheticalMOF_5064018_0_0_2_15_2_14_repeat  0.0\n",
       "1                  DB0-m3_o160_o146_f0_fsc.sym.81_repeat  0.0\n",
       "2                      DB0-m2_o3_o4_f0_nbo.sym.13_repeat  0.0\n",
       "3                 DB0-m29_o82_o1470_f0_pts.sym.11_repeat  0.0\n",
       "4                  DB0-m3_o520_o159_f0_fsc.sym.79_repeat  0.0\n",
       "...                                                  ...  ...\n",
       "279604                DB0-m3_o7_o22_f0_nbo.sym.54_repeat  0.0\n",
       "279605                DB0-m2_o5_o14_f0_nbo.sym.53_repeat  0.0\n",
       "279606      DB5-hypotheticalMOF_5911_2_0_0_10_2_7_repeat  0.0\n",
       "279607              DB0-m3_o510_o14_f0_fsc.sym.63_repeat  0.0\n",
       "279608               DB0-m3_o11_o27_f0_nbo.sym.12_repeat  0.0\n",
       "\n",
       "[279609 rows x 2 columns]"
      ]
     },
     "execution_count": 1,
     "metadata": {},
     "output_type": "execute_result"
    }
   ],
   "source": [
    "import pandas as pd\n",
    "\n",
    "csv_file_path = \"/home/uceckz0/Project/cgcnn/data/band_gap/test.csv\"\n",
    "id_prop = pd.read_csv(csv_file_path)\n",
    "id_prop"
   ]
  },
  {
   "cell_type": "code",
   "execution_count": 3,
   "metadata": {},
   "outputs": [
    {
     "data": {
      "text/plain": [
       "(279609, 2)"
      ]
     },
     "execution_count": 3,
     "metadata": {},
     "output_type": "execute_result"
    }
   ],
   "source": [
    "id_prop.shape"
   ]
  }
 ],
 "metadata": {
  "kernelspec": {
   "display_name": "cgcnn",
   "language": "python",
   "name": "python3"
  },
  "language_info": {
   "codemirror_mode": {
    "name": "ipython",
    "version": 3
   },
   "file_extension": ".py",
   "mimetype": "text/x-python",
   "name": "python",
   "nbconvert_exporter": "python",
   "pygments_lexer": "ipython3",
   "version": "3.8.19"
  }
 },
 "nbformat": 4,
 "nbformat_minor": 2
}
